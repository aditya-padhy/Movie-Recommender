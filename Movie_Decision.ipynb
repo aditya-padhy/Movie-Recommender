{
 "cells": [
  {
   "cell_type": "code",
   "execution_count": 1,
   "id": "589965a9-f9f1-4178-b97f-46e8f47b5bf2",
   "metadata": {},
   "outputs": [],
   "source": [
    "import pandas as pd\n",
    "import numpy as np\n",
    "import matplotlib.pyplot as plt\n",
    "\n",
    "from sklearn.model_selection import train_test_split\n",
    "from sklearn.tree import DecisionTreeClassifier\n",
    "from enum import Enum\n",
    "\n",
    "df = pd.read_csv(\n",
    "    'https://gist.githubusercontent.com/jochasinga/a8e03d61df616728603d9863de2733c6/raw/0bb89604b54d4547849d401545a3dfcf551cdade/movies.csv',\n",
    "    header=0,\n",
    ")"
   ]
  },
  {
   "cell_type": "code",
   "execution_count": 4,
   "id": "7a6fbbde-3570-4416-beae-889aa951ba4e",
   "metadata": {},
   "outputs": [
    {
     "data": {
      "text/html": [
       "<div>\n",
       "<style scoped>\n",
       "    .dataframe tbody tr th:only-of-type {\n",
       "        vertical-align: middle;\n",
       "    }\n",
       "\n",
       "    .dataframe tbody tr th {\n",
       "        vertical-align: top;\n",
       "    }\n",
       "\n",
       "    .dataframe thead th {\n",
       "        text-align: right;\n",
       "    }\n",
       "</style>\n",
       "<table border=\"1\" class=\"dataframe\">\n",
       "  <thead>\n",
       "    <tr style=\"text-align: right;\">\n",
       "      <th></th>\n",
       "      <th>movie_name</th>\n",
       "      <th>director</th>\n",
       "      <th>category</th>\n",
       "      <th>imdb_rating</th>\n",
       "      <th>watched</th>\n",
       "    </tr>\n",
       "  </thead>\n",
       "  <tbody>\n",
       "    <tr>\n",
       "      <th>0</th>\n",
       "      <td>Kill Bill Vol. 1</td>\n",
       "      <td>4</td>\n",
       "      <td>0</td>\n",
       "      <td>8.2</td>\n",
       "      <td>1</td>\n",
       "    </tr>\n",
       "    <tr>\n",
       "      <th>1</th>\n",
       "      <td>Pulp Fiction</td>\n",
       "      <td>4</td>\n",
       "      <td>0</td>\n",
       "      <td>8.3</td>\n",
       "      <td>1</td>\n",
       "    </tr>\n",
       "    <tr>\n",
       "      <th>2</th>\n",
       "      <td>Django Unchained</td>\n",
       "      <td>4</td>\n",
       "      <td>0</td>\n",
       "      <td>8.4</td>\n",
       "      <td>0</td>\n",
       "    </tr>\n",
       "    <tr>\n",
       "      <th>3</th>\n",
       "      <td>Inglourious Basterds</td>\n",
       "      <td>4</td>\n",
       "      <td>0</td>\n",
       "      <td>8.3</td>\n",
       "      <td>1</td>\n",
       "    </tr>\n",
       "    <tr>\n",
       "      <th>4</th>\n",
       "      <td>Avatar</td>\n",
       "      <td>1</td>\n",
       "      <td>3</td>\n",
       "      <td>7.8</td>\n",
       "      <td>1</td>\n",
       "    </tr>\n",
       "  </tbody>\n",
       "</table>\n",
       "</div>"
      ],
      "text/plain": [
       "             movie_name  director  category  imdb_rating  watched\n",
       "0      Kill Bill Vol. 1         4         0          8.2        1\n",
       "1          Pulp Fiction         4         0          8.3        1\n",
       "2      Django Unchained         4         0          8.4        0\n",
       "3  Inglourious Basterds         4         0          8.3        1\n",
       "4                Avatar         1         3          7.8        1"
      ]
     },
     "execution_count": 4,
     "metadata": {},
     "output_type": "execute_result"
    }
   ],
   "source": [
    "df.head()"
   ]
  },
  {
   "cell_type": "code",
   "execution_count": 3,
   "id": "79b77659-d5c4-4046-93a1-a5e7d105d02b",
   "metadata": {},
   "outputs": [],
   "source": [
    "from sklearn.preprocessing import LabelEncoder, OrdinalEncoder\n",
    "\n",
    "df.replace('?', 'Yes', inplace=True)\n",
    "\n",
    "le = LabelEncoder()\n",
    "df['watched'] = le.fit_transform(df['watched'])\n",
    "\n",
    "oe = OrdinalEncoder(dtype=np.int32)\n",
    "df[['director', 'category']] = oe.fit_transform(df[['director', 'category']])"
   ]
  },
  {
   "cell_type": "code",
   "execution_count": 5,
   "id": "8a30be61-279a-4c64-b0be-773a078a0090",
   "metadata": {},
   "outputs": [
    {
     "name": "stdout",
     "output_type": "stream",
     "text": [
      "Accuracy 0.8\n"
     ]
    },
    {
     "data": {
      "text/plain": [
       "array([1, 1, 1, 0, 0])"
      ]
     },
     "execution_count": 5,
     "metadata": {},
     "output_type": "execute_result"
    }
   ],
   "source": [
    "all_inputs = df[['director', 'category', 'imdb_rating']].values\n",
    "all_classes = df['watched'].values\n",
    "\n",
    "(train_inputs, test_inputs, train_classes, test_classes) = train_test_split(all_inputs, all_classes, train_size=0.8,random_state=1)\n",
    "\n",
    "classifier = DecisionTreeClassifier()\n",
    "classifier.fit(train_inputs, train_classes)\n",
    "\n",
    "print(\"Accuracy\", classifier.score(test_inputs, test_classes))\n",
    "\n",
    "classifier.predict(test_inputs)"
   ]
  },
  {
   "cell_type": "code",
   "execution_count": 7,
   "id": "77c207a6-3aab-417c-be91-2ed76105c910",
   "metadata": {},
   "outputs": [
    {
     "data": {
      "text/plain": [
       "array([1, 1, 1, 0, 1])"
      ]
     },
     "execution_count": 7,
     "metadata": {},
     "output_type": "execute_result"
    }
   ],
   "source": [
    "test_classes"
   ]
  }
 ],
 "metadata": {
  "kernelspec": {
   "display_name": "Python 3 (ipykernel)",
   "language": "python",
   "name": "python3"
  },
  "language_info": {
   "codemirror_mode": {
    "name": "ipython",
    "version": 3
   },
   "file_extension": ".py",
   "mimetype": "text/x-python",
   "name": "python",
   "nbconvert_exporter": "python",
   "pygments_lexer": "ipython3",
   "version": "3.10.9"
  }
 },
 "nbformat": 4,
 "nbformat_minor": 5
}
